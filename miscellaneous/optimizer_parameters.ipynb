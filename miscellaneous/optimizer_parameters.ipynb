{
 "cells": [
  {
   "cell_type": "code",
   "execution_count": 2,
   "metadata": {},
   "outputs": [
    {
     "name": "stdout",
     "output_type": "stream",
     "text": [
      "Decay is set to: 5e-07\n"
     ]
    },
    {
     "data": {
      "text/plain": [
       "<Figure size 640x480 with 1 Axes>"
      ]
     },
     "metadata": {},
     "output_type": "display_data"
    }
   ],
   "source": [
    "import matplotlib.pyplot as plt\n",
    "import numpy as np\n",
    "from matplotlib.ticker import ScalarFormatter, FormatStrFormatter\n",
    "\n",
    "lr = 1e-4\n",
    "epoch = 200\n",
    "decay = lr/epoch\n",
    "print(\"Decay is set to: {}\".format(decay))\n",
    "\n",
    "\n",
    "new_lr = []\n",
    "e = np.arange(0, epoch, 1)\n",
    "for i in e:\n",
    "    lr = lr/(1 + (decay*i))\n",
    "    new_lr.append(lr)\n",
    "\n",
    "fig, ax = plt.subplots()\n",
    "ax.plot(e, new_lr)\n",
    "ax.set(xlabel='Epoch', ylabel='Learning rate')\n",
    "ax.yaxis.set_major_formatter(FormatStrFormatter('%.3E'))\n",
    "\n",
    "\n",
    "ax.grid()\n",
    "\n",
    "plt.xlim(xmin=0, xmax=epoch)\n",
    "\n",
    "plt.show()"
   ]
  },
  {
   "cell_type": "code",
   "execution_count": 128,
   "metadata": {},
   "outputs": [
    {
     "data": {
      "image/png": "[encoded data removed]",
      "text/plain": [
       "<Figure size 432x288 with 1 Axes>"
      ]
     },
     "metadata": {
      "needs_background": "light"
     },
     "output_type": "display_data"
    }
   ],
   "source": [
    "weight = 1.0\n",
    "epoch = 150\n",
    "\n",
    "growth_rate = 1/(0.06*epoch**1.1)\n",
    "\n",
    "maximum_weight = 150\n",
    "\n",
    "new_weight = []\n",
    "e = np.arange(0, epoch)\n",
    "for i in e:\n",
    "    weight =  weight + growth_rate*weight*(1-weight/maximum_weight)   \n",
    "    new_weight.append(weight)\n",
    "\n",
    "fig, ax = plt.subplots()\n",
    "ax.plot(e, new_weight)\n",
    "ax.set(xlabel='Epoch', ylabel='Weight')\n",
    "\n",
    "ax.grid()\n",
    "\n",
    "plt.xlim(xmin=0, xmax=epoch)\n",
    "plt.ylim(ymin=1)\n",
    "\n",
    "plt.show()"
   ]
  },
  {
   "cell_type": "code",
   "execution_count": null,
   "metadata": {},
   "outputs": [],
   "source": []
  }
 ],
 "metadata": {
  "kernelspec": {
   "display_name": "envDeepLearningWithProtoDUNE",
   "language": "python",
   "name": "envdeeplearningwithprotodune"
  },
  "language_info": {
   "codemirror_mode": {
    "name": "ipython",
    "version": 3
   },
   "file_extension": ".py",
   "mimetype": "text/x-python",
   "name": "python",
   "nbconvert_exporter": "python",
   "pygments_lexer": "ipython3",
   "version": "3.5.6"
  }
 },
 "nbformat": 4,
 "nbformat_minor": 2
}
