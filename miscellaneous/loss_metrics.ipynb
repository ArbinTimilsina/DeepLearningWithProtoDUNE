{
 "cells": [
  {
   "cell_type": "code",
   "execution_count": 1,
   "metadata": {},
   "outputs": [
    {
     "name": "stderr",
     "output_type": "stream",
     "text": [
      "Using TensorFlow backend.\n"
     ]
    }
   ],
   "source": [
    "import tensorflow as tf\n",
    "from keras import backend as K\n",
    "import numpy as np"
   ]
  },
  {
   "cell_type": "code",
   "execution_count": 2,
   "metadata": {},
   "outputs": [],
   "source": [
    "y_true = np.array([[\n",
    "        [[1, 0, 0], [0, 0, 1], [0, 0, 1]],\n",
    "        [[0, 0, 1], [0, 1, 0], [0, 0, 1]],\n",
    "        [[0, 0, 1], [0, 0, 1], [0, 1, 0]]]])"
   ]
  },
  {
   "cell_type": "code",
   "execution_count": 3,
   "metadata": {},
   "outputs": [],
   "source": [
    "y_pred = np.array([[\n",
    "        [[0.1, 0.1, 0.8], [0.1, 0.1, 0.8], [0.1, 0.1, 0.8]],\n",
    "        [[0.1, 0.1, 0.8], [0.1, 0.1, 0.8], [0.1, 0.1, 0.8]],\n",
    "        [[0.1, 0.1, 0.8], [0.1, 0.1, 0.8], [0.1, 0.1, 0.8]]]])"
   ]
  },
  {
   "cell_type": "code",
   "execution_count": 4,
   "metadata": {},
   "outputs": [
    {
     "name": "stdout",
     "output_type": "stream",
     "text": [
      "(1, 3, 3, 3)\n",
      "(1, 3, 3, 3)\n"
     ]
    }
   ],
   "source": [
    "print(y_true.shape)\n",
    "print(y_pred.shape)"
   ]
  },
  {
   "cell_type": "code",
   "execution_count": 5,
   "metadata": {},
   "outputs": [
    {
     "data": {
      "text/plain": [
       "array([[[0, 2, 2],\n",
       "        [2, 1, 2],\n",
       "        [2, 2, 1]]])"
      ]
     },
     "execution_count": 5,
     "metadata": {},
     "output_type": "execute_result"
    }
   ],
   "source": [
    "np.argmax(y_true, axis=3)"
   ]
  },
  {
   "cell_type": "code",
   "execution_count": 6,
   "metadata": {},
   "outputs": [
    {
     "data": {
      "text/plain": [
       "array([[[2, 2, 2],\n",
       "        [2, 2, 2],\n",
       "        [2, 2, 2]]])"
      ]
     },
     "execution_count": 6,
     "metadata": {},
     "output_type": "execute_result"
    }
   ],
   "source": [
    "np.argmax(y_pred, axis=3)"
   ]
  },
  {
   "cell_type": "code",
   "execution_count": 18,
   "metadata": {},
   "outputs": [
    {
     "name": "stdout",
     "output_type": "stream",
     "text": [
      "0.0\n"
     ]
    }
   ],
   "source": [
    "def three_classes_mean_iou(y_true, y_pred):\n",
    "    y_pred = tf.constant(y_pred) \n",
    "    y_true = tf.constant(y_true)\n",
    "    num_classes = 3\n",
    "    score, up_opt = tf.metrics.mean_iou(y_true, y_pred, num_classes)\n",
    "    K.get_session().run(tf.local_variables_initializer())\n",
    "    with tf.control_dependencies([up_opt]):\n",
    "        score = tf.identity(score)\n",
    "    return score\n",
    "\n",
    "with tf.Session() as sess:\n",
    "    init_op = tf.local_variables_initializer()\n",
    "    sess.run(init_op)\n",
    "    print(sess.run(three_classes_mean_iou(y_true, y_pred)))"
   ]
  },
  {
   "cell_type": "code",
   "execution_count": 8,
   "metadata": {},
   "outputs": [
    {
     "name": "stdout",
     "output_type": "stream",
     "text": [
      "\n",
      "Number of validation samples IoU evaulated on: 1\n",
      "IoU for 1 is: 0.105\n",
      "IoU for 2 is: 0.138\n",
      "IoU for 3 is: 0.727\n",
      "Average IoU is: 0.32349\n"
     ]
    }
   ],
   "source": [
    "def intersection_over_union(y_true, y_pred, epsilon=1e-6):\n",
    "    intersection = np.sum(y_true * y_pred)\n",
    "    union = np.sum(y_true + y_pred)\n",
    "\n",
    "    return (2.0 * (intersection + epsilon)/(union + epsilon))\n",
    "\n",
    "class_names = [\"1\", \"2\", \"3\"]\n",
    "def average_intersection_over_union(y_true, y_pred, class_names):\n",
    "    n_preds = y_pred.shape[0]\n",
    "    print('\\nNumber of validation samples IoU evaulated on: {}'.format(n_preds))\n",
    "\n",
    "    total_iou = 0\n",
    "    for c in range(len(class_names)):\n",
    "        iou = intersection_over_union(y_true[:,:,:,c], y_pred[:,:,:,c])\n",
    "        print('IoU for {} is: {:.3f}'.format(class_names[c], iou))\n",
    "        total_iou += iou\n",
    "\n",
    "    print('Average IoU is: {:.5f}'.format(total_iou/len(class_names)))\n",
    "\n",
    "average_intersection_over_union(y_true,y_pred, class_names)"
   ]
  },
  {
   "cell_type": "code",
   "execution_count": 14,
   "metadata": {},
   "outputs": [
    {
     "name": "stdout",
     "output_type": "stream",
     "text": [
      "[[[2.3025851  0.22314353 0.22314353]\n",
      "  [0.22314353 2.3025851  0.22314353]\n",
      "  [0.22314353 0.22314353 2.3025851 ]]]\n",
      "[[[2.30258509 0.22314355 0.22314355]\n",
      "  [0.22314355 2.30258509 0.22314355]\n",
      "  [0.22314355 0.22314355 2.30258509]]]\n",
      "[[[3.28940728e+02 2.23143551e-01 2.23143551e-01]\n",
      "  [2.23143551e-01 3.28940728e+01 2.23143551e-01]\n",
      "  [2.23143551e-01 2.23143551e-01 3.28940728e+01]]]\n",
      "[[[0.72404695 0.00275824 0.00275824]\n",
      "  [0.00275824 0.72404695 0.00275824]\n",
      "  [0.00275824 0.00275824 0.72404695]]]\n",
      "[[[2.67487081e+02 1.74492267e-01 1.74492267e-01]\n",
      "  [1.74492267e-01 2.78247542e+01 1.74492267e-01]\n",
      "  [1.74492267e-01 1.74492267e-01 2.78247542e+01]]]\n"
     ]
    }
   ],
   "source": [
    "from keras import losses\n",
    "\n",
    "weights = np.array([0.007, 0.07, 1.0])\n",
    "weights = tf.constant(weights, dtype=tf.float64)\n",
    "\n",
    "# categorical_crossentropy from Keras\n",
    "def loss0(y_true, y_pred):\n",
    "    y_pred = K.variable(y_pred) \n",
    "    y_true = K.variable(y_true)\n",
    "    return losses.categorical_crossentropy(y_true, y_pred)\n",
    "\n",
    "# categorical_crossentropy calculated from scratch\n",
    "def loss1(y_true, y_pred):\n",
    "    # Scale predictions so that the class probas of each sample sum to 1\n",
    "    y_pred /= tf.reduce_sum(y_pred, axis=-1, keepdims=True)\n",
    "\n",
    "    # Clip to prevent NaN's and Inf's\n",
    "    _epsilon = tf.convert_to_tensor(K.epsilon(), y_pred.dtype.base_dtype)\n",
    "    y_pred = tf.clip_by_value(y_pred, _epsilon, 1.0 - _epsilon)\n",
    "\n",
    "    # Do the loss calculation\n",
    "    loss = y_true * tf.log(y_pred)\n",
    "    loss = -tf.reduce_sum(loss, axis=-1)\n",
    "    return loss\n",
    "\n",
    "# weighted_categorical_crossentropy \n",
    "def loss2(y_true, y_pred):    \n",
    "    # Scale predictions so that the class probas of each sample sum to 1\n",
    "    y_pred /= tf.reduce_sum(y_pred, axis=-1, keepdims=True)\n",
    "\n",
    "    # Clip to prevent NaN's and Inf's\n",
    "    _epsilon = tf.convert_to_tensor(K.epsilon(), y_pred.dtype.base_dtype)\n",
    "    y_pred = tf.clip_by_value(y_pred, _epsilon, 1.0 - _epsilon)\n",
    "    \n",
    "    # Do the loss calculation\n",
    "    loss = y_true * tf.log(y_pred) * 1.0/weights\n",
    "    loss = -tf.reduce_sum(loss, axis=-1)\n",
    "    return loss\n",
    "\n",
    "# focal_loss\n",
    "def loss3(y_true, y_pred):\n",
    "    alpha=0.25\n",
    "    gamma=2.0\n",
    "    # Scale predictions so that the class probas of each sample sum to 1\n",
    "    y_pred /= tf.reduce_sum(y_pred, axis=-1, keepdims=True)\n",
    "    \n",
    "    # Clip to prevent NaN's and Inf's\n",
    "    _epsilon = tf.convert_to_tensor(K.epsilon(), y_pred.dtype.base_dtype)\n",
    "    y_pred = tf.clip_by_value(y_pred, _epsilon, 1.0 - _epsilon)\n",
    "    \n",
    "    # Do the loss calculation\n",
    "    pt = tf.where(tf.equal(y_true, 1), y_pred, 1 - y_pred)\n",
    "    loss = alpha * tf.pow(1.0 - pt, gamma) * tf.log(pt)\n",
    "    loss = -tf.reduce_sum(loss, axis=-1)\n",
    "\n",
    "    return loss\n",
    "\n",
    "# weighted focal_loss\n",
    "def loss4(y_true, y_pred):\n",
    "    alpha=1.0/weights\n",
    "    gamma=2.0\n",
    "    # Scale predictions so that the class probas of each sample sum to 1\n",
    "    y_pred /= tf.reduce_sum(y_pred, axis=-1, keepdims=True)\n",
    "    \n",
    "    # Clip to prevent NaN's and Inf's\n",
    "    _epsilon = tf.convert_to_tensor(K.epsilon(), y_pred.dtype.base_dtype)\n",
    "    y_pred = tf.clip_by_value(y_pred, _epsilon, 1.0 - _epsilon)\n",
    "    \n",
    "    # Do the loss calculation\n",
    "    pt = tf.where(tf.equal(y_true, 1), y_pred, 1 - y_pred)\n",
    "    loss = alpha * tf.pow(1.0 - pt, gamma) * tf.log(pt)\n",
    "    loss = -tf.reduce_sum(loss, axis=-1)\n",
    "\n",
    "    return loss\n",
    "\n",
    "print(K.eval(loss0(y_true, y_pred)))\n",
    "with tf.Session() as sess:\n",
    "    init_op = tf.initialize_all_variables()\n",
    "    sess.run(init_op)\n",
    "    print(sess.run(loss1(y_true, y_pred)))\n",
    "    print(sess.run(loss2(y_true, y_pred)))\n",
    "    print(sess.run(loss3(y_true, y_pred)))\n",
    "    print(sess.run(loss4(y_true, y_pred)))"
   ]
  },
  {
   "cell_type": "code",
   "execution_count": null,
   "metadata": {},
   "outputs": [],
   "source": []
  }
 ],
 "metadata": {
  "kernelspec": {
   "display_name": "envDeepLearningWithProtoDUNE",
   "language": "python",
   "name": "envdeeplearningwithprotodune"
  },
  "language_info": {
   "codemirror_mode": {
    "name": "ipython",
    "version": 3
   },
   "file_extension": ".py",
   "mimetype": "text/x-python",
   "name": "python",
   "nbconvert_exporter": "python",
   "pygments_lexer": "ipython3",
   "version": "3.5.6"
  }
 },
 "nbformat": 4,
 "nbformat_minor": 2
}
